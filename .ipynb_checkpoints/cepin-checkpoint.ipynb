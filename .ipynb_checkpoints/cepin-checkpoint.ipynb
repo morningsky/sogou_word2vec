{
 "cells": [
  {
   "cell_type": "code",
   "execution_count": 3,
   "metadata": {},
   "outputs": [
    {
     "data": {
      "text/plain": [
       "'为  寂寞  的  夜空  画上  一个  月亮'"
      ]
     },
     "execution_count": 3,
     "metadata": {},
     "output_type": "execute_result"
    }
   ],
   "source": [
    "import jieba\n",
    "seg_sent = jieba.cut(u\"为寂寞的夜空画上一个月亮\") #精准模式\n",
    "'  '.join(seg_sent)"
   ]
  },
  {
   "cell_type": "code",
   "execution_count": 11,
   "metadata": {},
   "outputs": [
    {
     "name": "stdout",
     "output_type": "stream",
     "text": [
      "Model loaded succeed\n"
     ]
    },
    {
     "data": {
      "text/plain": [
       "'为 寂寞 的 夜空 画 上 一个 月亮'"
      ]
     },
     "execution_count": 11,
     "metadata": {},
     "output_type": "execute_result"
    }
   ],
   "source": [
    "import thulac\n",
    "thu = thulac.thulac(seg_only=True)\n",
    "seg_sent = thu.cut(\"为寂寞的夜空画上一个月亮\", text=True)\n",
    "seg_sent"
   ]
  },
  {
   "cell_type": "code",
   "execution_count": 28,
   "metadata": {},
   "outputs": [
    {
     "data": {
      "text/plain": [
       "'为  寂寞  的  夜空  画  上  一个  月亮'"
      ]
     },
     "execution_count": 28,
     "metadata": {},
     "output_type": "execute_result"
    }
   ],
   "source": [
    "import pynlpir\n",
    "pynlpir.open()\n",
    "seg_sent = pynlpir.segment(\"为寂寞的夜空画上一个月亮\", pos_tagging=False)\n",
    "'  '.join(seg_sent)"
   ]
  },
  {
   "cell_type": "code",
   "execution_count": 27,
   "metadata": {},
   "outputs": [
    {
     "data": {
      "text/plain": [
       "'为  寂寞  的  夜空  画  上  一个  月亮'"
      ]
     },
     "execution_count": 27,
     "metadata": {},
     "output_type": "execute_result"
    }
   ],
   "source": [
    "from pyltp import Segmentor\n",
    "segmentor = Segmentor()  # 初始化实例\n",
    "segmentor.load('cws.model')  # 加载模型\n",
    "seg_sent = segmentor.segment('为寂寞的夜空画上一个月亮')  # 分词\n",
    "'  '.join(seg_sent)"
   ]
  },
  {
   "cell_type": "code",
   "execution_count": 37,
   "metadata": {},
   "outputs": [
    {
     "data": {
      "text/plain": [
       "'为  寂寞  的  夜空画  上  一个  月亮'"
      ]
     },
     "execution_count": 37,
     "metadata": {},
     "output_type": "execute_result"
    }
   ],
   "source": [
    "import fool\n",
    "seg_sent = fool.cut(\"为寂寞的夜空画上一个月亮\",ignore=True)\n",
    "'  '.join(seg_sent[0])"
   ]
  },
  {
   "cell_type": "code",
   "execution_count": 36,
   "metadata": {},
   "outputs": [
    {
     "data": {
      "text/plain": [
       "'为  寂寞  的  夜空画  上  一个  月亮'"
      ]
     },
     "execution_count": 36,
     "metadata": {},
     "output_type": "execute_result"
    }
   ],
   "source": []
  },
  {
   "cell_type": "code",
   "execution_count": 2,
   "metadata": {},
   "outputs": [
    {
     "name": "stderr",
     "output_type": "stream",
     "text": [
      "2018-04-04 17:16:55,614: INFO: running seg_word.py seg_word.py corpus.txt corpus_cut2.txt\n",
      "Building prefix dict from the default dictionary ...\n",
      "2018-04-04 17:16:55,616: DEBUG: Building prefix dict from the default dictionary ...\n",
      "Loading model from cache C:\\Users\\DELL\\AppData\\Local\\Temp\\jieba.cache\n",
      "2018-04-04 17:16:55,618: DEBUG: Loading model from cache C:\\Users\\DELL\\AppData\\Local\\Temp\\jieba.cache\n",
      "Loading model cost 0.568 seconds.\n",
      "2018-04-04 17:16:56,186: DEBUG: Loading model cost 0.568 seconds.\n",
      "Prefix dict has been built succesfully.\n",
      "2018-04-04 17:16:56,186: DEBUG: Prefix dict has been built succesfully.\n",
      "2018-04-04 17:16:56,194: INFO: Finished Saved 41 articles\n"
     ]
    }
   ],
   "source": [
    "fd = codecs.open(fname, 'r', 'utf-8')\n",
    "lines = fd.readlines()\n",
    "fd.close()\n",
    "\n",
    "fd = open(dstname, 'w', encoding='utf-8')\n",
    "for line in lines:\n",
    "    rst = cwsSent(line.strip(), model, cwsInfo)\n",
    "    #fd.write(rst.encode('utf-8' + '\\n')\n",
    "    fd.write(rst + '\\n')\n",
    "fd.close()"
   ]
  }
 ],
 "metadata": {
  "kernelspec": {
   "display_name": "Python 3",
   "language": "python",
   "name": "python3"
  },
  "language_info": {
   "codemirror_mode": {
    "name": "ipython",
    "version": 3
   },
   "file_extension": ".py",
   "mimetype": "text/x-python",
   "name": "python",
   "nbconvert_exporter": "python",
   "pygments_lexer": "ipython3",
   "version": "3.6.4"
  }
 },
 "nbformat": 4,
 "nbformat_minor": 2
}
